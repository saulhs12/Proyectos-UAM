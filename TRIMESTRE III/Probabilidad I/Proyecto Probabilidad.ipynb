{
 "cells": [
  {
   "cell_type": "markdown",
   "metadata": {},
   "source": [
    "# Algoritmo CB\n",
    "## El algoritmo CB es el algoritmo que unicamente utiliza el boton \"siguiente\" para ir de una canción a otra y tiene 1 de probabilidad de que lo haga en d pasos siendo d la distancia en pasos que hay de una canción a otra, siendo el peor escenario que el algoritmo haga $n-1$ pasos\n"
   ]
  },
  {
   "cell_type": "code",
   "execution_count": 7,
   "metadata": {},
   "outputs": [],
   "source": [
    "import random\n",
    "import matplotlib.pyplot as plt"
   ]
  },
  {
   "cell_type": "code",
   "execution_count": 8,
   "metadata": {},
   "outputs": [],
   "source": [
    "def CB_mostrar(lista,a,b):\n",
    "    i=a\n",
    "    cont = 0\n",
    "    while(i!=b):\n",
    "        if(i>=(len(lista))-1):\n",
    "            print(f\"{lista[i]} -> {lista[0]}\")\n",
    "            i = -1\n",
    "        else:\n",
    "            print(f\"{lista[i]} -> {lista[i+1]}\")\n",
    "        i+=1\n",
    "        \n",
    "        cont+=1\n",
    "    #print(f\"Cantidad de pasos CB: {cont}\")\n",
    "    return cont \n"
   ]
  },
  {
   "cell_type": "code",
   "execution_count": 9,
   "metadata": {},
   "outputs": [],
   "source": [
    "def CB(lista,a,b):\n",
    "    i=a\n",
    "    cont = 0\n",
    "    while(i!=b):\n",
    "        if(i>=(len(lista))-1):\n",
    "            #print(f\"{lista[i]} -> {lista[0]}\")\n",
    "            i = -1\n",
    "        else:\n",
    "            pass\n",
    "            #print(f\"{lista[i]} -> {lista[i+1]}\")\n",
    "        i+=1\n",
    "        \n",
    "        cont+=1\n",
    "    #print(f\"Cantidad de pasos: {cont}\")\n",
    "    return cont "
   ]
  },
  {
   "cell_type": "markdown",
   "metadata": {},
   "source": [
    "# Definimos si algo esta cerca\n",
    "# la metrica que usamos para denotar que una canción esté cerca es: $\\epsilon$"
   ]
  },
  {
   "cell_type": "code",
   "execution_count": 10,
   "metadata": {},
   "outputs": [],
   "source": [
    "def estaCerca(b,i,e,lista):\n",
    "    esCerca = False\n",
    "    lisCerca=[]\n",
    "    if (b-e)-1<0:\n",
    "        #print(\"estoy aqui\")\n",
    "        lisCerca = lista[((b-e)):]\n",
    "        lisCerca2=(lista[:(e-(e-b))])\n",
    "        existe = lisCerca.count(i+1)\n",
    "        existe2 = lisCerca2.count(i+1)\n",
    "        if existe > 0 or existe2 >0:\n",
    "            esCerca = True\n",
    "    else:\n",
    "        #print(\"estoy aca\")\n",
    "        if i <= b and i >= (b)-e:\n",
    "            esCerca = True\n",
    "    \n",
    "    return esCerca \n"
   ]
  },
  {
   "cell_type": "markdown",
   "metadata": {},
   "source": [
    "# Algoritmo AC\n",
    "## El algoritmo AC se puede resumir como: \"Si no estás cerca de la canción destino,entonces presiona aleatorio, si estás cerca de la canción destino, utiliza el algoritmo CB\n",
    "## Para este algoritmo el mejor de los casos es que con un solo paso se pueda llegar a la canción destino, pero se tiene $\\frac{1}{n}$ probabilidad de que esto pase, el peor de los escenarios es que el algoritmo practicamente nunca acabe porque la probabilidad de que al presionar aleatorio y nos de una canción que esté cerca o que sea la canción destino es:  $\\frac{\\epsilon+1}{n}$ por eso hay que ser razonables a la hora de escoger nuestro epsilon acorde a la cantidad de canciones que hay en nuestra lista"
   ]
  },
  {
   "cell_type": "code",
   "execution_count": 11,
   "metadata": {},
   "outputs": [],
   "source": [
    "def AC_mostrar(lista,a,b,e,n):\n",
    "    i=a\n",
    "    cont = 0\n",
    "    #random.seed(a)\n",
    "    while(i!=b):\n",
    "        if estaCerca(b=b,i=i,e=e,lista=lista):\n",
    "            cont+=CB_mostrar(lista,i,b)\n",
    "            i=b\n",
    "        else:\n",
    "            i=random.randint(0,n-1)\n",
    "            print(f\"Canción aleatoria: {i+1}\")\n",
    "            cont+=1\n",
    "    #print(f\"Cantidad de pasos: {cont}\")\n",
    "    return cont\n",
    "\n"
   ]
  },
  {
   "cell_type": "code",
   "execution_count": 12,
   "metadata": {},
   "outputs": [],
   "source": [
    "def AC(lista,a,b,e,n):\n",
    "    i=a\n",
    "    cont = 0\n",
    "    #random.seed(a)\n",
    "    while(i!=b):\n",
    "        \n",
    "        if estaCerca(b=b,i=i,e=e,lista=lista):\n",
    "            cont+=CB(lista,i,b)\n",
    "            i=b\n",
    "        else:\n",
    "            \n",
    "            i=random.randint(0,n-1)\n",
    "            #print(f\"i alea: {i}\")\n",
    "            cont+=1\n",
    "    #print(f\"Cantidad de pasos: {cont}\")\n",
    "    return cont"
   ]
  },
  {
   "cell_type": "markdown",
   "metadata": {},
   "source": [
    "# Simulando la lista de reproducción "
   ]
  },
  {
   "cell_type": "markdown",
   "metadata": {},
   "source": [
    "## El usuario va a ingresar su lista de canciones ordenada:"
   ]
  },
  {
   "cell_type": "code",
   "execution_count": 13,
   "metadata": {},
   "outputs": [
    {
     "data": {
      "text/plain": [
       "12"
      ]
     },
     "execution_count": 13,
     "metadata": {},
     "output_type": "execute_result"
    }
   ],
   "source": [
    "lista_canciones = [1,2,3,4,5,6,7,8,9,10,11,12]\n",
    "n=len(lista_canciones)\n",
    "n"
   ]
  },
  {
   "cell_type": "markdown",
   "metadata": {},
   "source": [
    "## El usuario va a escoger su medida de ¿cuanto para mi es cerca? -- su medida debe ser números enteros y positivos"
   ]
  },
  {
   "cell_type": "code",
   "execution_count": 14,
   "metadata": {},
   "outputs": [
    {
     "name": "stdout",
     "output_type": "stream",
     "text": [
      "Se considera estar cerca cuando está a 2 canciones atrás de la canción destino\n"
     ]
    }
   ],
   "source": [
    "e = int(len(lista_canciones)*0.1 +1)\n",
    "print(f\"Se considera estar cerca cuando está a {e} canciones atrás de la canción destino\")"
   ]
  },
  {
   "cell_type": "markdown",
   "metadata": {},
   "source": [
    "## La canción inicial puede ser aleatoria o puede ser escogida por el usuario:"
   ]
  },
  {
   "cell_type": "code",
   "execution_count": 21,
   "metadata": {},
   "outputs": [
    {
     "name": "stdout",
     "output_type": "stream",
     "text": [
      "Si quieres empezar con una canción aleatoria presiona 1, si no presiona 2\n",
      "2\n",
      "Escoge la canción que quieras dentro de la lista\n",
      "Tu canción inicial es: 1\n"
     ]
    }
   ],
   "source": [
    "\n",
    "k=0\n",
    "a=0\n",
    "print(\"Si quieres empezar con una canción aleatoria presiona 1, si no presiona 2\")\n",
    "k=int(input())\n",
    "print(k)\n",
    "if(k==1):\n",
    "    a=random.randint(1, len(lista_canciones))\n",
    "    print(f\"tu canción inicial es: {a}\")\n",
    "    a=lista_canciones.index(a)\n",
    "else:\n",
    "    print(\"Escoge la canción que quieras dentro de la lista\")\n",
    "    a=int(input())\n",
    "    print(f\"Tu canción inicial es: {a}\")\n",
    "    a=lista_canciones.index(a)\n",
    "   "
   ]
  },
  {
   "cell_type": "code",
   "execution_count": 22,
   "metadata": {},
   "outputs": [
    {
     "name": "stdout",
     "output_type": "stream",
     "text": [
      "Escoge la canción a la que quieras ir de la lista\n",
      "Tu canción destino es: 12\n"
     ]
    }
   ],
   "source": [
    "print(\"Escoge la canción a la que quieras ir de la lista\")\n",
    "b=int(input())\n",
    "print(f\"Tu canción destino es: {b}\")\n",
    "b=lista_canciones.index(b)"
   ]
  },
  {
   "cell_type": "markdown",
   "metadata": {},
   "source": [
    "## Calcularemos la distancia o el número de pasos que se necesitan para ir de la canción 'a' a la canción 'b'"
   ]
  },
  {
   "cell_type": "code",
   "execution_count": 23,
   "metadata": {},
   "outputs": [
    {
     "name": "stdout",
     "output_type": "stream",
     "text": [
      "Cantidad de pasos necesarios para ir de 'a' a 'b' es: 11\n"
     ]
    }
   ],
   "source": [
    "d = CB(lista_canciones,a,b)\n",
    "print(f\"Cantidad de pasos necesarios para ir de 'a' a 'b' es: {d}\")"
   ]
  },
  {
   "cell_type": "markdown",
   "metadata": {},
   "source": [
    "## Calculamos la probabilidad de que el Algoritmo AC tenga menor cantidad de pasos que el Algoritmo CB"
   ]
  },
  {
   "cell_type": "code",
   "execution_count": 24,
   "metadata": {},
   "outputs": [
    {
     "name": "stdout",
     "output_type": "stream",
     "text": [
      "La probabilidad es: 0.92157\n"
     ]
    }
   ],
   "source": [
    "suma_cont = 0\n",
    "k=100000\n",
    "for i in range(k):\n",
    "    q = AC(lista_canciones,a,b,e,n)\n",
    "    if(q<d):\n",
    "        suma_cont+=1\n",
    "print(f\"La probabilidad es: {suma_cont/k}\")"
   ]
  },
  {
   "cell_type": "code",
   "execution_count": 26,
   "metadata": {},
   "outputs": [
    {
     "name": "stdout",
     "output_type": "stream",
     "text": [
      "Si quieres usar el algoritmo AC presiona 1, si quieres usar el algoritmo CB presiona 2\n",
      "1\n",
      "Canción aleatoria: 6\n",
      "Canción aleatoria: 4\n",
      "Canción aleatoria: 12\n",
      "Haz llegado a la canción destino en: 3 pasos\n"
     ]
    }
   ],
   "source": [
    "print(\"Si quieres usar el algoritmo AC presiona 1, si quieres usar el algoritmo CB presiona 2\")\n",
    "k=int(input())\n",
    "print(k)\n",
    "if(k==1):\n",
    "    f=AC_mostrar(lista_canciones,a,b,e,n)\n",
    "    print(f\"Haz llegado a la canción destino en: {f} pasos\")\n",
    "else:\n",
    "    f=CB_mostrar(lista_canciones,a,b)\n",
    "    print(f\"Haz llegado a la canción destino en: {f} pasos\")"
   ]
  },
  {
   "cell_type": "code",
   "execution_count": 29,
   "metadata": {},
   "outputs": [
    {
     "name": "stdout",
     "output_type": "stream",
     "text": [
      "b:  1\n",
      "Distancia:  0\n",
      "probabilidad: 0.0\n",
      "b:  2\n",
      "Distancia:  1\n",
      "probabilidad: 0.0\n",
      "b:  3\n",
      "Distancia:  2\n",
      "probabilidad: 0.0\n",
      "b:  4\n",
      "Distancia:  3\n",
      "probabilidad: 0.228626\n",
      "b:  5\n",
      "Distancia:  4\n",
      "probabilidad: 0.422435\n",
      "b:  6\n",
      "Distancia:  5\n",
      "probabilidad: 0.565732\n",
      "b:  7\n",
      "Distancia:  6\n",
      "probabilidad: 0.674733\n",
      "b:  8\n",
      "Distancia:  7\n",
      "probabilidad: 0.755985\n",
      "b:  9\n",
      "Distancia:  8\n",
      "probabilidad: 0.817389\n",
      "b:  10\n",
      "Distancia:  9\n",
      "probabilidad: 0.86293\n",
      "b:  11\n",
      "Distancia:  10\n",
      "probabilidad: 0.89727\n",
      "b:  12\n",
      "Distancia:  11\n",
      "probabilidad: 0.923186\n"
     ]
    }
   ],
   "source": [
    "\n",
    "a=1\n",
    "b=1\n",
    "a=lista_canciones.index(a)\n",
    "b=lista_canciones.index(b) \n",
    "\n",
    "k=1000000\n",
    "pun = []\n",
    "for i in range(n):\n",
    "    print(\"b: \",b+1)\n",
    "    d=CB(lista_canciones,a,b)\n",
    "    print(f\"Distancia: \",d)\n",
    "    suma_cont = 0\n",
    "    for i in range(k):\n",
    "        q = AC(lista_canciones,a,b,e,n)\n",
    "        if(q<d):\n",
    "            suma_cont+=1\n",
    "    #print(f\"b: \",b)\n",
    "    #print(f\"Suma del conteo: {suma_cont}\")\n",
    "    print(f\"probabilidad: {suma_cont /k}\")\n",
    "    pun.append(suma_cont/k)\n",
    "    b+=1"
   ]
  },
  {
   "cell_type": "code",
   "execution_count": 30,
   "metadata": {},
   "outputs": [
    {
     "data": {
      "image/png": "[encoded data removed]",
      "text/plain": [
       "<Figure size 640x480 with 1 Axes>"
      ]
     },
     "metadata": {},
     "output_type": "display_data"
    }
   ],
   "source": [
    "import matplotlib.pyplot as plt\n",
    "\n",
    "n_pun = []\n",
    "\n",
    "for i in range(1,n+1):\n",
    "    n_pun.append(i)\n",
    "plt.scatter(n_pun,pun)\n",
    "plt.show()"
   ]
  },
  {
   "cell_type": "code",
   "execution_count": null,
   "metadata": {},
   "outputs": [],
   "source": []
  }
 ],
 "metadata": {
  "interpreter": {
   "hash": "d174643f520db73806a05714c42433c6cff25cfc6f4b77321fe2fa5dd95bbde3"
  },
  "kernelspec": {
   "display_name": "Python 3.9.6 64-bit ('main': conda)",
   "name": "python3"
  },
  "language_info": {
   "codemirror_mode": {
    "name": "ipython",
    "version": 3
   },
   "file_extension": ".py",
   "mimetype": "text/x-python",
   "name": "python",
   "nbconvert_exporter": "python",
   "pygments_lexer": "ipython3",
   "version": "3.9.6"
  },
  "orig_nbformat": 4
 },
 "nbformat": 4,
 "nbformat_minor": 2
}
