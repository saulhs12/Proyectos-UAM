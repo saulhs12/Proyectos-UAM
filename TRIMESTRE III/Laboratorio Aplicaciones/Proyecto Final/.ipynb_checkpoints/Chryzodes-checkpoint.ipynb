{
 "cells": [
  {
   "cell_type": "markdown",
   "metadata": {},
   "source": [
    "# $\\text{Práctica 5:}$ $\\textcolor{black}{\\text{EL ARTE DE LOS MÓDULOS}}$"
   ]
  },
  {
   "cell_type": "markdown",
   "metadata": {},
   "source": [
    "# $\\text{Autores}$"
   ]
  },
  {
   "cell_type": "markdown",
   "metadata": {},
   "source": [
    "### $\\textit{M. E. Nolasco-Salgado}$\n",
    "### $\\textit{S. Herrera-Saavedra}$\n",
    "### $\\textit{L. Palomo-Rodríguez}$\n",
    "### $\\textit{L. F. Trujillo-Bernal}$"
   ]
  },
  {
   "cell_type": "markdown",
   "metadata": {},
   "source": [
    "# $\\textcolor{black}{\\text{Resumen}}$"
   ]
  },
  {
   "cell_type": "markdown",
   "metadata": {},
   "source": [
    "En esta práctica veremos una importante y muy bonita aplicación de la aritmética modular. Explicaremos qué son los $\\textit{Chryzodes}$, cómo surgen y para qué se utilizan.\n",
    "Se verá el algoritmo general para construir un Chryzode y las herramientas necesarias para realizar uno similar al de la imagen en Sagemath."
   ]
  },
  {
   "cell_type": "markdown",
   "metadata": {},
   "source": [
    "![](coeur_or.gif)"
   ]
  },
  {
   "cell_type": "markdown",
   "metadata": {},
   "source": [
    "# $\\textcolor{black}{\\text{Introducción}}$"
   ]
  },
  {
   "cell_type": "markdown",
   "metadata": {},
   "source": [
    "La Aritmética Modular ha tenido a través de la historia diferentes momentos\n",
    "de incidencia en las actividades humanas, entre otras en: Teoría de números,\n",
    "Álgebra Abstracta, Criptografía, y en artes visuales y musicales.  \n",
    "\n",
    "En contraste con la importancia actual de la Teoría de Números y la Aritmética\n",
    "Modular, el trabajo que se realiza en el aula desde los primeros grados con los temas de la teoría\n",
    "de números es completamente esquemático, centrado en definiciones aparentemente carentes de significado, reglas para clasificar los números, algoritmos de descomposición,\n",
    "criterios para memorizar y usar sin justificación y desde luego sin referencia\n",
    "a aplicación alguna en otras áreas del conocimiento.  \n",
    "\n",
    "Existen diversas actividades que pueden ser aprovechadas para trabajar en\n",
    "el aula la Aritmética Modular de manera interesante y a continuación veremos una de ellas."
   ]
  },
  {
   "cell_type": "markdown",
   "metadata": {},
   "source": [
    "# $\\textcolor{black}{\\text{Descripción experimental}}$"
   ]
  },
  {
   "cell_type": "markdown",
   "metadata": {},
   "source": [
    "La palabra $\\textcolor{orange}{\\text{Chryzode}}$ es creada a partir de los vocablos griegos $chryzos$ y\n",
    "$zoide$ y significa escritura de oro en un círculo y es la representación gráfica\n",
    "y geométrica de los números y las operaciones en aritmética modular por\n",
    "medio de un círculo. Tal representación permite dar una visión alterna (de\n",
    "hecho artística) a las clases de congruencias y a las operaciones entre ellas.\n",
    "Concretamente, los Chryzodes son modelos gráficos de fenómenos conectados a las congruencias aritméticas. Solo tenemos que usar un círculo o anillo\n",
    "graduado como un reloj, en el cual la serie de números obtenida por multiplicaciones, divisiones o potencias son representadas por líneas y sus puntos\n",
    "de intersección.\n"
   ]
  },
  {
   "cell_type": "markdown",
   "metadata": {},
   "source": [
    "La construcción del $\\textcolor{orange}{\\text{Chryzode}}$ que representa una operación aritmética del tipo $\\textcolor{black}{\\text{a x b}}$, con $\\textcolor{black}{\\text{b}}$ fijo es bastante simple. Para ello basta disponer puntos equidistantes en un círculo, numerados del 0 al$\\textcolor{black}{\\text{ m − 1}}$ , conectando con una línea los puntos $\\textcolor{black}{\\text{a}}$  y $\\textcolor{black}{\\text{a x b}}$ . Si alguno de estos números excede a $\\textcolor{black}{\\text{m}}$, entonces elegimos para él, el punto que corresponde al residuo que resulta de dividirlo por $\\textcolor{black}{\\text{m}}$."
   ]
  },
  {
   "cell_type": "markdown",
   "metadata": {},
   "source": [
    "Los $Chryzodes$ tienen muchas aplicaciones, como en el arte y la arquitectura. Pero no se limitan sólo a eso, pues en tiempos recientes han sido usados para modelar la difracción de la luz en un cristal."
   ]
  },
  {
   "cell_type": "markdown",
   "metadata": {},
   "source": [
    "### Algoritmo para construir un Chryzode"
   ]
  },
  {
   "cell_type": "markdown",
   "metadata": {},
   "source": [
    "#### 1.- Se ubican en una circunferencia $n$ puntos equidistantes.\n",
    "\n",
    "#### 2.- Se escoge un entero $k$.\n",
    " \n",
    "#### 3.- Numeramos los $n$ puntos desde $0$ hasta $n-1$\n",
    "\n",
    "#### 4.- Para cada punto $p$ se realiza $(p*k)MOD(n)=c$ ,donde $c \\in [0,n-1]$\n",
    "\n",
    "#### 5.- Se traza $\\displaystyle \\overline{pc}$ (puede ser segmento o recta)."
   ]
  },
  {
   "cell_type": "markdown",
   "metadata": {},
   "source": [
    "###### Nota: Es importante mencionar que entre más grande sea el valor de $n$, la circunferencia estará dividida en mayor número de partes por lo que la gráfica estará mejor definida a costa de utilizar mayor memoria al momento de graficarla."
   ]
  },
  {
   "cell_type": "markdown",
   "metadata": {},
   "source": [
    "## $\\textcolor{black}{\\text{Objetivos:}}$"
   ]
  },
  {
   "cell_type": "markdown",
   "metadata": {},
   "source": [
    "1. Entender la teoría elemental sobre la aritmética modular.\n",
    "2. Implementar en SageMath 9.4 el algoritmo para construir un Chryzode. \n",
    "3. Analizar y reflexionar acerca del comportamiento de la multiplicación en la aritmética modular.\n"
   ]
  },
  {
   "cell_type": "markdown",
   "metadata": {},
   "source": [
    "## $\\textcolor{black}{\\text{Materiales:}}$"
   ]
  },
  {
   "cell_type": "markdown",
   "metadata": {},
   "source": [
    "*  Equipo de computo\n",
    "*  Una cuenta de Cocalc o el compilador/Kernel de SageMath si deseas trabajar en tu escritorio, en caso de trabajar en tu escritorio necesitas un editor de texto compatible con Jupyter Notebook\n",
    "*  Jupyter Notebook ya sea con Anaconda o con vscode"
   ]
  },
  {
   "cell_type": "markdown",
   "metadata": {},
   "source": [
    "## $\\textcolor{black}{\\text{Procedimiento:}}$"
   ]
  },
  {
   "cell_type": "markdown",
   "metadata": {},
   "source": [
    "#### DIVIDIR LA CIRCUNFERENCIA EN PUNTOS EQUIDISTANTES"
   ]
  },
  {
   "cell_type": "markdown",
   "metadata": {},
   "source": [
    "Primero se construye la gráfica de la circunferencia, en este caso para mayor facilidad se toma el radio igual a 1. Utilizando la función G(x,y)=x^2+y^2-1. Para generar puntos que se encuentren igualmente espaciados dentro de la circunferencia unitaria, se procede a partir la circunferencia en $n$ partes iguales que a su vez nos van a permitir tener $n$ puntos dentro de la circunferencia, mediante la división de $2*pi/n=\\theta$, de donde $\\theta$ será el primer ángulo para el primer punto, para generar las coordenadas de los $n$ puntos correspondientes a múltiplos del ángulo $\\theta$ se toma en cuenta que $x=cos(n*\\theta)$, $y=sin(n*\\theta)$ de donde n toma los valores de 1 hasta $n$. \n"
   ]
  },
  {
   "cell_type": "markdown",
   "metadata": {},
   "source": [
    "#### GENERAR LOS PUNTOS"
   ]
  },
  {
   "cell_type": "markdown",
   "metadata": {},
   "source": [
    " Podemos generar puntos inscritos en la circunferencia haciendo lo siguiente: \n",
    " primero declaramos un arreglo el cual llamamos \"puntosA\" y despues declaramos un arreglo de puntos de la forma \"puntos = point([ ])\" de esa manera puntos puede recibir más de un solo punto.\n",
    " Posteriormente en un ciclo for que va de 0 a $n$ siendo $n$ el número de puntos. Ahí hacemos los componentes de las coordenadas de cada punto, por ejemplo el punto tiene la forma \"punto=(a,b)\" siendo $a = coseno(j * \\theta)$ y $b=seno(j*\\theta)$ después declaramos un arreglo punto que va a ser igual a los valores de a y b formando así las coordenadas del punto, al arreglo de puntosA le añadimos el punto que creamos y al arreglo de puntos \"puntos\" le \"sumamos\" el nuevo punto, al final aumentamos j en 1 y así sucesivamente hasta llegar a $n$ puntos"
   ]
  },
  {
   "cell_type": "markdown",
   "metadata": {},
   "source": [
    "#### GENERAR LAS LÍNEAS"
   ]
  },
  {
   "cell_type": "markdown",
   "metadata": {},
   "source": [
    "Para generar las lineas de un punto a otro crearemos un arreglo de líneas \"lineas = line([ ])\" luego tenemos un ciclo for que va de 0 a $n$ en el que agregamos una línea al arreglo de líneas \"lineas\" la línea recibe como valor dos puntos, el primer punto es nuestro punto en el arreglo \"puntosA\" con índice i y el segundo punto es aquel que en el arreglo \"puntosA\" tenga el indice: [$i*k\\%n$] y repetimos el ciclo $n$ veces \n",
    "\n",
    "Al final graficamos el circulo, los puntos y las lineas"
   ]
  },
  {
   "cell_type": "markdown",
   "metadata": {},
   "source": [
    "#### CÓMO MOSTRAR EL RESULTADO (LA GRÁFICA)"
   ]
  },
  {
   "cell_type": "markdown",
   "metadata": {},
   "source": [
    "Finalmente, para graficar el resultado del Chryzode obtenido se utiliza la función:\n",
    "implicit_plot(G,(x,-1.003,1.003),(y,-1.003,1.003),color='black')+puntos+lineas"
   ]
  },
  {
   "cell_type": "markdown",
   "metadata": {},
   "source": [
    "#### Tu resultado debe ser similar a los siguientes:"
   ]
  },
  {
   "cell_type": "markdown",
   "metadata": {},
   "source": [
    "![](Chryzoide1.png)  ![](Chr2.png)\n"
   ]
  },
  {
   "cell_type": "markdown",
   "metadata": {},
   "source": [
    "## $\\textcolor{black}{\\text{Actividades:}}$"
   ]
  },
  {
   "cell_type": "markdown",
   "metadata": {},
   "source": [
    "* ##### Escoge los valores de $n$ y $k$ para construir tu propio $Chryzode$ con ayuda de las herramientas y el algoritmo que explicamos arriba. Utiliza colores distintos a los que SageMath proporciona por defecto (no uses \"blue\", \"green\", \"black\", etcétera). Para esto puedes consultar en internet el código hexadecimal del color que más te guste.  \n",
    "* #####  Responde las siguientes preguntas tanto antes como después de haber experimentado con tu figura:  \n",
    "  ##### ~ ¿Qué sucede con el Chryzode si tomas un valor negativo de $k$?  ¿Por qué?\n",
    "  ##### ~ ¿Y si consideras operaciones distintas a la multiplicación?\n"
   ]
  },
  {
   "cell_type": "code",
   "execution_count": 1,
   "metadata": {},
   "outputs": [
    {
     "ename": "SyntaxError",
     "evalue": "cannot assign to function call (<ipython-input-1-49c7518ac1e0>, line 3)",
     "output_type": "error",
     "traceback": [
      "\u001b[0;36m  File \u001b[0;32m\"<ipython-input-1-49c7518ac1e0>\"\u001b[0;36m, line \u001b[0;32m3\u001b[0m\n\u001b[0;31m    G(x,y)=x^2+y^2-1\u001b[0m\n\u001b[0m    ^\u001b[0m\n\u001b[0;31mSyntaxError\u001b[0m\u001b[0;31m:\u001b[0m cannot assign to function call\n"
     ]
    }
   ],
   "source": [
    "import random\n",
    "#Función generadora del circulo\n",
    "G(x,y)=x^2+y^2-1\n",
    "A=[[]]\n",
    "n=401 #Nuestros puntos en la circunferencia\n",
    "k=101  #Número por el que vamos a multiplicar (tabla de congruencia)\n",
    "t=N((2*pi)/n) #Ángulo tetta\n",
    "j=1\n",
    "\n",
    "puntosA = []\n",
    "puntos = point([])\n",
    "for i in range(n):\n",
    "    a=N(cos(j*t))\n",
    "    b=N(sin(j*t))\n",
    "    punto = [a,b]\n",
    "    puntosA.append(punto)\n",
    "    \n",
    "    puntos+=point([punto],size = 10,color='black')\n",
    "    j=j+1\n",
    "\n",
    "\n",
    "\n",
    "lineas = line([])\n",
    "for i in srange(n):\n",
    "    colores = random.randint(0,7)\n",
    "    lineas+=line([puntosA[i],puntosA[i/k%n]],color='#7400ff')\n",
    "        \n",
    "        \n",
    "#graficamos todo\n",
    "implicit_plot(G,(x,-1.003,1.003),(y,-1.003,1.003),color='black')+puntos+lineas"
   ]
  },
  {
   "cell_type": "markdown",
   "metadata": {},
   "source": [
    "# $\\textcolor{black}{\\text{Elaborar la práctica:}}$"
   ]
  },
  {
   "cell_type": "markdown",
   "metadata": {},
   "source": [
    "##### Postea en el foro de ubicua una imagen de tu figura junto con los respectivos valores de $n$ y $k$ que elegiste para construirlo (no se vale repetir) así como las respuestas a las preguntas. Lúcete con los colores ;) \n",
    "\n",
    "##### Incluye un comentario sobre qué te pareció la actividad o si encontraste alguna otra curiosidad puedes compartirla con todos en el foro."
   ]
  },
  {
   "cell_type": "markdown",
   "metadata": {},
   "source": [
    "# $\\textcolor{black}{\\text{Referencias}}$"
   ]
  },
  {
   "cell_type": "markdown",
   "metadata": {},
   "source": [
    "\\begin{gather*}\n",
    "\\mathbf{-Mathologer.\\ ( 2015,\\ 6\\ de\\ noviembre) .\\ Times\\ Tables,\\ Mandelbrot\\ and\\ the\\ Heart\\ of\\ Mathematics}\\\\\n",
    "\\mathbf{\\ [ Video] .\\ YouTube.\\ https://www.youtube.com/watch?v=qhbuKbxJsk8}\\\\\n",
    "\\\\\n",
    "\\mathbf{-Bello,\\ M.\\ ( s.\\ f.) .\\ LA\\ ARITMÉTICA\\ MODULAR\\ Y\\ ALGUNAS\\ DE\\ SUS\\ }\\\\\n",
    "\\mathbf{APLICACIONES.\\ Universidad\\ Nacional\\ de\\ Colombia.}\n",
    "\\end{gather*}\n"
   ]
  },
  {
   "cell_type": "code",
   "execution_count": 0,
   "metadata": {},
   "outputs": [],
   "source": []
  }
 ],
 "metadata": {
  "kernelspec": {
   "display_name": "Python 3",
   "language": "python",
   "name": "python3"
  },
  "language_info": {
   "codemirror_mode": {
    "name": "ipython",
    "version": 3
   },
   "file_extension": ".py",
   "mimetype": "text/x-python",
   "name": "python",
   "nbconvert_exporter": "python",
   "pygments_lexer": "ipython3",
   "version": "3.9.6"
  }
 },
 "nbformat": 4,
 "nbformat_minor": 4
}
